{
 "cells": [
  {
   "cell_type": "code",
   "execution_count": 1,
   "id": "56801e5e-390d-466f-aaa7-02673dd5e6c2",
   "metadata": {
    "tags": []
   },
   "outputs": [
    {
     "name": "stderr",
     "output_type": "stream",
     "text": [
      "ERROR 1: PROJ: proj_create_from_database: Open of /opt/anaconda3/envs/eds220-env/share/proj failed\n"
     ]
    },
    {
     "data": {
      "text/html": [
       "<div>\n",
       "<style scoped>\n",
       "    .dataframe tbody tr th:only-of-type {\n",
       "        vertical-align: middle;\n",
       "    }\n",
       "\n",
       "    .dataframe tbody tr th {\n",
       "        vertical-align: top;\n",
       "    }\n",
       "\n",
       "    .dataframe thead th {\n",
       "        text-align: right;\n",
       "    }\n",
       "</style>\n",
       "<table border=\"1\" class=\"dataframe\">\n",
       "  <thead>\n",
       "    <tr style=\"text-align: right;\">\n",
       "      <th></th>\n",
       "      <th>admin</th>\n",
       "      <th>country</th>\n",
       "      <th>n_communities</th>\n",
       "      <th>geometry</th>\n",
       "    </tr>\n",
       "  </thead>\n",
       "  <tbody>\n",
       "    <tr>\n",
       "      <th>0</th>\n",
       "      <td>United States of America</td>\n",
       "      <td>US</td>\n",
       "      <td>115</td>\n",
       "      <td>MULTIPOLYGON (((-132.74687 56.52568, -132.7576...</td>\n",
       "    </tr>\n",
       "    <tr>\n",
       "      <th>1</th>\n",
       "      <td>United Kingdom</td>\n",
       "      <td>GB</td>\n",
       "      <td>96</td>\n",
       "      <td>MULTIPOLYGON (((-2.66768 51.62300, -2.74214 51...</td>\n",
       "    </tr>\n",
       "    <tr>\n",
       "      <th>2</th>\n",
       "      <td>Sweden</td>\n",
       "      <td>SE</td>\n",
       "      <td>133</td>\n",
       "      <td>MULTIPOLYGON (((19.07646 57.83594, 18.99375 57...</td>\n",
       "    </tr>\n",
       "    <tr>\n",
       "      <th>3</th>\n",
       "      <td>Russia</td>\n",
       "      <td>RU</td>\n",
       "      <td>774</td>\n",
       "      <td>MULTIPOLYGON (((145.88154 43.45952, 145.89561 ...</td>\n",
       "    </tr>\n",
       "    <tr>\n",
       "      <th>4</th>\n",
       "      <td>Norway</td>\n",
       "      <td>NO</td>\n",
       "      <td>48</td>\n",
       "      <td>MULTIPOLYGON (((20.62217 69.03687, 20.49199 69...</td>\n",
       "    </tr>\n",
       "  </tbody>\n",
       "</table>\n",
       "</div>"
      ],
      "text/plain": [
       "                      admin country  n_communities  \\\n",
       "0  United States of America      US            115   \n",
       "1            United Kingdom      GB             96   \n",
       "2                    Sweden      SE            133   \n",
       "3                    Russia      RU            774   \n",
       "4                    Norway      NO             48   \n",
       "\n",
       "                                            geometry  \n",
       "0  MULTIPOLYGON (((-132.74687 56.52568, -132.7576...  \n",
       "1  MULTIPOLYGON (((-2.66768 51.62300, -2.74214 51...  \n",
       "2  MULTIPOLYGON (((19.07646 57.83594, 18.99375 57...  \n",
       "3  MULTIPOLYGON (((145.88154 43.45952, 145.89561 ...  \n",
       "4  MULTIPOLYGON (((20.62217 69.03687, 20.49199 69...  "
      ]
     },
     "execution_count": 1,
     "metadata": {},
     "output_type": "execute_result"
    }
   ],
   "source": [
    "# Load Libraries\n",
    "import pandas as pd\n",
    "import matplotlib.pyplot as plt\n",
    "import numpy as np \n",
    "import geopandas as gpd\n",
    "\n",
    "# Import Arctic communities GeoJSON directly from URL\n",
    "df = gpd.read_file('data/arctic_communities.geojson')\n",
    "\n",
    "df.head()"
   ]
  },
  {
   "cell_type": "code",
   "execution_count": 3,
   "id": "9641883a-1917-4540-8956-17706f673eaf",
   "metadata": {
    "collapsed": true,
    "jupyter": {
     "outputs_hidden": true
    },
    "tags": []
   },
   "outputs": [
    {
     "data": {
      "text/plain": [
       "0     MultiPolygon\n",
       "1     MultiPolygon\n",
       "2     MultiPolygon\n",
       "3     MultiPolygon\n",
       "4     MultiPolygon\n",
       "5     MultiPolygon\n",
       "6          Polygon\n",
       "7          Polygon\n",
       "8     MultiPolygon\n",
       "9     MultiPolygon\n",
       "10    MultiPolygon\n",
       "11    MultiPolygon\n",
       "12    MultiPolygon\n",
       "13    MultiPolygon\n",
       "14         Polygon\n",
       "dtype: object"
      ]
     },
     "execution_count": 3,
     "metadata": {},
     "output_type": "execute_result"
    }
   ],
   "source": [
    "df.geom_type"
   ]
  },
  {
   "cell_type": "code",
   "execution_count": 7,
   "id": "cd6625da-c3fb-488b-a975-4cc570cb4559",
   "metadata": {
    "tags": []
   },
   "outputs": [],
   "source": [
    "def check_polygons(data):\n",
    "        if (data.geom_type == \"Multipolygon\").any():\n",
    "            print(\"Contains Multipolygons!\")\n",
    "        else:\n",
    "            print(\"All polys!\")"
   ]
  },
  {
   "cell_type": "code",
   "execution_count": 5,
   "id": "1e0c75d4-f6c9-4af6-8f6f-c73f335bb8c8",
   "metadata": {
    "tags": []
   },
   "outputs": [],
   "source": [
    "# Explode polygons\n",
    "df = (df.explode(index_parts = False)\n",
    "          .reset_index())"
   ]
  },
  {
   "cell_type": "markdown",
   "id": "99349ea5-143a-4a20-b3f8-6200ba9775b5",
   "metadata": {},
   "source": [
    "Explode - We had a multipolygon feature types and basically these are polygons with separate geometries that are grouped in a polygon group feature. So exploding seems like it expands separate geometries into their own districnt polygon features. This could be useful if you want to treat them as separate features. For example countries/island fetauers. "
   ]
  },
  {
   "cell_type": "code",
   "execution_count": 8,
   "id": "c9949019-f611-4370-920c-71bd28187bee",
   "metadata": {
    "tags": []
   },
   "outputs": [
    {
     "name": "stdout",
     "output_type": "stream",
     "text": [
      "All polys\n"
     ]
    }
   ],
   "source": [
    "check_polygons(df)"
   ]
  },
  {
   "cell_type": "code",
   "execution_count": 10,
   "id": "45217ff0-cf94-446d-8dfb-e0703d099df9",
   "metadata": {
    "tags": []
   },
   "outputs": [
    {
     "name": "stdout",
     "output_type": "stream",
     "text": [
      "0    POLYGON ((-132.74687 56.52568, -132.75762 56.5...\n",
      "Name: geometry, dtype: geometry\n"
     ]
    },
    {
     "data": {
      "text/plain": [
       "geopandas.geoseries.GeoSeries"
      ]
     },
     "execution_count": 10,
     "metadata": {},
     "output_type": "execute_result"
    }
   ],
   "source": [
    "print(df.iloc[[0]]['geometry'])\n",
    "type(df.iloc[[0]]['geometry'])"
   ]
  },
  {
   "cell_type": "code",
   "execution_count": 11,
   "id": "2eacae4d-1c73-4f35-9299-87f73e8632cb",
   "metadata": {
    "tags": []
   },
   "outputs": [
    {
     "data": {
      "text/plain": [
       "0    56.511035\n",
       "Name: miny, dtype: float64"
      ]
     },
     "execution_count": 11,
     "metadata": {},
     "output_type": "execute_result"
    }
   ],
   "source": [
    "# Use the bounds attributes\n",
    "df.iloc[[0]]['geometry'].bounds[\"miny\"]"
   ]
  },
  {
   "cell_type": "code",
   "execution_count": 12,
   "id": "17d66730-a329-4e19-8ad8-1064214c2d5b",
   "metadata": {
    "tags": []
   },
   "outputs": [],
   "source": [
    "def min_y(geodf_row):\n",
    "    return geodf_row.geometry.bounds[1]"
   ]
  },
  {
   "cell_type": "code",
   "execution_count": 13,
   "id": "5b34e25d-5206-4d74-80fa-36ba4d27c958",
   "metadata": {
    "collapsed": true,
    "jupyter": {
     "outputs_hidden": true
    },
    "tags": []
   },
   "outputs": [
    {
     "data": {
      "text/html": [
       "<div>\n",
       "<style scoped>\n",
       "    .dataframe tbody tr th:only-of-type {\n",
       "        vertical-align: middle;\n",
       "    }\n",
       "\n",
       "    .dataframe tbody tr th {\n",
       "        vertical-align: top;\n",
       "    }\n",
       "\n",
       "    .dataframe thead th {\n",
       "        text-align: right;\n",
       "    }\n",
       "</style>\n",
       "<table border=\"1\" class=\"dataframe\">\n",
       "  <thead>\n",
       "    <tr style=\"text-align: right;\">\n",
       "      <th></th>\n",
       "      <th>index</th>\n",
       "      <th>admin</th>\n",
       "      <th>country</th>\n",
       "      <th>n_communities</th>\n",
       "      <th>geometry</th>\n",
       "      <th>miny</th>\n",
       "    </tr>\n",
       "  </thead>\n",
       "  <tbody>\n",
       "    <tr>\n",
       "      <th>0</th>\n",
       "      <td>0</td>\n",
       "      <td>United States of America</td>\n",
       "      <td>US</td>\n",
       "      <td>115</td>\n",
       "      <td>POLYGON ((-132.74687 56.52568, -132.75762 56.5...</td>\n",
       "      <td>56.511035</td>\n",
       "    </tr>\n",
       "    <tr>\n",
       "      <th>1</th>\n",
       "      <td>0</td>\n",
       "      <td>United States of America</td>\n",
       "      <td>US</td>\n",
       "      <td>115</td>\n",
       "      <td>POLYGON ((-132.77988 56.24727, -132.83096 56.2...</td>\n",
       "      <td>56.244141</td>\n",
       "    </tr>\n",
       "    <tr>\n",
       "      <th>2</th>\n",
       "      <td>0</td>\n",
       "      <td>United States of America</td>\n",
       "      <td>US</td>\n",
       "      <td>115</td>\n",
       "      <td>POLYGON ((-134.31274 58.22891, -134.31987 58.2...</td>\n",
       "      <td>58.204102</td>\n",
       "    </tr>\n",
       "    <tr>\n",
       "      <th>3</th>\n",
       "      <td>0</td>\n",
       "      <td>United States of America</td>\n",
       "      <td>US</td>\n",
       "      <td>115</td>\n",
       "      <td>POLYGON ((-145.11851 60.33711, -145.15049 60.3...</td>\n",
       "      <td>60.312646</td>\n",
       "    </tr>\n",
       "    <tr>\n",
       "      <th>4</th>\n",
       "      <td>0</td>\n",
       "      <td>United States of America</td>\n",
       "      <td>US</td>\n",
       "      <td>115</td>\n",
       "      <td>POLYGON ((-144.56563 59.81841, -144.61357 59.8...</td>\n",
       "      <td>59.812646</td>\n",
       "    </tr>\n",
       "    <tr>\n",
       "      <th>...</th>\n",
       "      <td>...</td>\n",
       "      <td>...</td>\n",
       "      <td>...</td>\n",
       "      <td>...</td>\n",
       "      <td>...</td>\n",
       "      <td>...</td>\n",
       "    </tr>\n",
       "    <tr>\n",
       "      <th>476</th>\n",
       "      <td>13</td>\n",
       "      <td>Canada</td>\n",
       "      <td>CA</td>\n",
       "      <td>7</td>\n",
       "      <td>POLYGON ((-109.16641 67.98237, -109.05391 67.9...</td>\n",
       "      <td>67.878809</td>\n",
       "    </tr>\n",
       "    <tr>\n",
       "      <th>477</th>\n",
       "      <td>13</td>\n",
       "      <td>Canada</td>\n",
       "      <td>CA</td>\n",
       "      <td>7</td>\n",
       "      <td>POLYGON ((-108.09272 67.00518, -107.96646 66.9...</td>\n",
       "      <td>66.857812</td>\n",
       "    </tr>\n",
       "    <tr>\n",
       "      <th>478</th>\n",
       "      <td>13</td>\n",
       "      <td>Canada</td>\n",
       "      <td>CA</td>\n",
       "      <td>7</td>\n",
       "      <td>POLYGON ((-109.32314 67.99087, -109.36084 67.9...</td>\n",
       "      <td>67.987598</td>\n",
       "    </tr>\n",
       "    <tr>\n",
       "      <th>479</th>\n",
       "      <td>13</td>\n",
       "      <td>Canada</td>\n",
       "      <td>CA</td>\n",
       "      <td>7</td>\n",
       "      <td>POLYGON ((-139.04312 69.57690, -139.12573 69.5...</td>\n",
       "      <td>69.539307</td>\n",
       "    </tr>\n",
       "    <tr>\n",
       "      <th>480</th>\n",
       "      <td>14</td>\n",
       "      <td>Belarus</td>\n",
       "      <td>BY</td>\n",
       "      <td>8</td>\n",
       "      <td>POLYGON ((31.76338 52.10107, 31.57373 52.10811...</td>\n",
       "      <td>51.265039</td>\n",
       "    </tr>\n",
       "  </tbody>\n",
       "</table>\n",
       "<p>481 rows × 6 columns</p>\n",
       "</div>"
      ],
      "text/plain": [
       "     index                     admin country  n_communities  \\\n",
       "0        0  United States of America      US            115   \n",
       "1        0  United States of America      US            115   \n",
       "2        0  United States of America      US            115   \n",
       "3        0  United States of America      US            115   \n",
       "4        0  United States of America      US            115   \n",
       "..     ...                       ...     ...            ...   \n",
       "476     13                    Canada      CA              7   \n",
       "477     13                    Canada      CA              7   \n",
       "478     13                    Canada      CA              7   \n",
       "479     13                    Canada      CA              7   \n",
       "480     14                   Belarus      BY              8   \n",
       "\n",
       "                                              geometry       miny  \n",
       "0    POLYGON ((-132.74687 56.52568, -132.75762 56.5...  56.511035  \n",
       "1    POLYGON ((-132.77988 56.24727, -132.83096 56.2...  56.244141  \n",
       "2    POLYGON ((-134.31274 58.22891, -134.31987 58.2...  58.204102  \n",
       "3    POLYGON ((-145.11851 60.33711, -145.15049 60.3...  60.312646  \n",
       "4    POLYGON ((-144.56563 59.81841, -144.61357 59.8...  59.812646  \n",
       "..                                                 ...        ...  \n",
       "476  POLYGON ((-109.16641 67.98237, -109.05391 67.9...  67.878809  \n",
       "477  POLYGON ((-108.09272 67.00518, -107.96646 66.9...  66.857812  \n",
       "478  POLYGON ((-109.32314 67.99087, -109.36084 67.9...  67.987598  \n",
       "479  POLYGON ((-139.04312 69.57690, -139.12573 69.5...  69.539307  \n",
       "480  POLYGON ((31.76338 52.10107, 31.57373 52.10811...  51.265039  \n",
       "\n",
       "[481 rows x 6 columns]"
      ]
     },
     "execution_count": 13,
     "metadata": {},
     "output_type": "execute_result"
    }
   ],
   "source": [
    "df[\"miny\"] = df.apply(min_y, axis=1)\n",
    "df"
   ]
  }
 ],
 "metadata": {
  "kernelspec": {
   "display_name": "Anaconda 3 (EDS220)",
   "language": "python",
   "name": "eds220-env"
  },
  "language_info": {
   "codemirror_mode": {
    "name": "ipython",
    "version": 3
   },
   "file_extension": ".py",
   "mimetype": "text/x-python",
   "name": "python",
   "nbconvert_exporter": "python",
   "pygments_lexer": "ipython3",
   "version": "3.11.4"
  }
 },
 "nbformat": 4,
 "nbformat_minor": 5
}
