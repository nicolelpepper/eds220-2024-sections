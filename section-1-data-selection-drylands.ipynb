{
 "cells": [
  {
   "cell_type": "code",
   "execution_count": null,
   "id": "b3a4fa5b-17b4-4cae-a60f-808f96a2b5bd",
   "metadata": {},
   "outputs": [],
   "source": [
    "# Section 1"
   ]
  },
  {
   "cell_type": "markdown",
   "id": "1c473dd6-86a5-4983-b81d-2449c8f84528",
   "metadata": {},
   "source": [
    "## Data Overview:\n",
    "**Description:** This dataset contains cleaned GBIF (www.gbif.org) occurrence records and associated climate and environmental data for all arthropod prey of listed species in California drylands as identified in Lortie et al. (2023): https://besjournals.onlinelibrary.wiley.com/doi/full/10.1002/2688-8319.12251. b057766eed286a), and distance to the nearest road from the census bureau's TIGER/Line road shapefile\n",
    "Link to data: https://knb.ecoinformatics.org/view/doi%3A10.5063%2FF1VM49RH\n",
    "\n",
    "**Date of access:** Oct. 3, 2024\n",
    "\n",
    "**Citation:**\n",
    "    Rachel King, Jenna Braun, Michael Westphal, & CJ Lortie. (2023). Compiled occurrence records for prey items of listed species found in California drylands with associated environmental data. Knowledge Network for Biocomplexity. doi:10.5063/F1VM49RH."
   ]
  },
  {
   "cell_type": "code",
   "execution_count": null,
   "id": "3e241105-4dfd-4dc2-be14-387e11d7a999",
   "metadata": {},
   "outputs": [],
   "source": []
  }
 ],
 "metadata": {
  "kernelspec": {
   "display_name": "Anaconda 3 (Base)",
   "language": "python",
   "name": "base"
  },
  "language_info": {
   "codemirror_mode": {
    "name": "ipython",
    "version": 3
   },
   "file_extension": ".py",
   "mimetype": "text/x-python",
   "name": "python",
   "nbconvert_exporter": "python",
   "pygments_lexer": "ipython3",
   "version": "3.9.13"
  }
 },
 "nbformat": 4,
 "nbformat_minor": 5
}
